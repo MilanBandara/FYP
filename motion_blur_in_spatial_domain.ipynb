{
 "cells": [
  {
   "cell_type": "code",
   "execution_count": 1,
   "metadata": {},
   "outputs": [],
   "source": [
    "import cv2 as cv\n",
    "import numpy as np"
   ]
  },
  {
   "cell_type": "code",
   "execution_count": 59,
   "metadata": {},
   "outputs": [
    {
     "name": "stdout",
     "output_type": "stream",
     "text": [
      "0.0\n",
      "0.3036764705882353\n",
      "(208, 242)\n"
     ]
    }
   ],
   "source": [
    "# Load the image\n",
    "image = cv.imread('cat.jpeg')\n",
    "kernel_1 = cv.imread(\"kernel0000_normalized.png\")\n",
    "\n",
    "\n",
    "# Convert the image to grayscale\n",
    "grayscale_image = cv.cvtColor(image, cv.COLOR_BGR2GRAY)\n",
    "kernel_1 = cv.cvtColor(kernel_1, cv.COLOR_BGR2GRAY)/(255)\n",
    "kernel_1 = cv.resize(kernel_1, (10,10))\n",
    "\n",
    "print(np.min(kernel_1))\n",
    "print(np.max(kernel_1))\n",
    "print(grayscale_image.shape)"
   ]
  },
  {
   "cell_type": "code",
   "execution_count": 60,
   "metadata": {},
   "outputs": [
    {
     "data": {
      "text/plain": [
       "True"
      ]
     },
     "execution_count": 60,
     "metadata": {},
     "output_type": "execute_result"
    }
   ],
   "source": [
    "# Create the motion blur kernel\n",
    "kernel = np.array([[1,0,0,0,0],\n",
    "                   [0,1,0,0,0],\n",
    "                   [0,0,1,0,0],\n",
    "                   [0,0,0,1,0],\n",
    "                   [0,0,0,0,1]])/9\n",
    "                    \n",
    "\n",
    "# kernel = np.ones((3, 3), dtype=np.float32) / 9\n",
    "\n",
    "# Convolve the image with the motion blur kernel\n",
    "blurred_image = cv.filter2D(grayscale_image, -1, kernel)\n",
    "\n",
    "# Save the blurred image\n",
    "cv.imwrite('test.jpg', blurred_image)"
   ]
  },
  {
   "cell_type": "code",
   "execution_count": null,
   "metadata": {},
   "outputs": [],
   "source": []
  }
 ],
 "metadata": {
  "kernelspec": {
   "display_name": "Python 3",
   "language": "python",
   "name": "python3"
  },
  "language_info": {
   "codemirror_mode": {
    "name": "ipython",
    "version": 3
   },
   "file_extension": ".py",
   "mimetype": "text/x-python",
   "name": "python",
   "nbconvert_exporter": "python",
   "pygments_lexer": "ipython3",
   "version": "3.9.0"
  }
 },
 "nbformat": 4,
 "nbformat_minor": 2
}

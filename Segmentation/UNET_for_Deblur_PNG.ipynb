{
  "cells": [
    {
      "cell_type": "markdown",
      "metadata": {
        "colab_type": "text",
        "id": "view-in-github"
      },
      "source": [
        "<a href=\"https://colab.research.google.com/github/MilanBandara/FYP/blob/main/UNET_for_Deblur_PNG.ipynb\" target=\"_parent\"><img src=\"https://colab.research.google.com/assets/colab-badge.svg\" alt=\"Open In Colab\"/></a>"
      ]
    },
    {
      "cell_type": "code",
      "execution_count": 1,
      "metadata": {},
      "outputs": [],
      "source": [
        "import tensorflow as tf\n",
        "physical_devices = tf.config.list_physical_devices('GPU')\n",
        "tf.config.experimental.set_memory_growth(physical_devices[0], True)"
      ]
    },
    {
      "cell_type": "code",
      "execution_count": 2,
      "metadata": {
        "id": "y0J3wcS2ZQoE"
      },
      "outputs": [],
      "source": [
        "import numpy as np\n",
        "from PIL import Image\n",
        "import matplotlib.pyplot as plt\n",
        "from keras.models import Model\n",
        "from keras.layers import Input, Conv2D, MaxPooling2D, UpSampling2D, concatenate, Conv2DTranspose, BatchNormalization, Dropout, Lambda\n",
        "from keras.utils import normalize\n",
        "import os\n",
        "import glob\n",
        "import cv2\n",
        "import numpy as np\n",
        "from matplotlib import pyplot as plt\n",
        "from keras.utils import to_categorical"
      ]
    },
    {
      "cell_type": "code",
      "execution_count": 3,
      "metadata": {},
      "outputs": [
        {
          "name": "stdout",
          "output_type": "stream",
          "text": [
            "Num GPUs Available:  1\n"
          ]
        }
      ],
      "source": [
        "import tensorflow as tf\n",
        "print(\"Num GPUs Available: \", len(tf.config.experimental.list_physical_devices('GPU')))"
      ]
    },
    {
      "cell_type": "markdown",
      "metadata": {
        "id": "8GaSfIG6WmeI"
      },
      "source": [
        "# Creating the data generator"
      ]
    },
    {
      "cell_type": "code",
      "execution_count": 4,
      "metadata": {
        "id": "hkfksE-dXGP9"
      },
      "outputs": [],
      "source": [
        "def load_img(img_dir, img_list):\n",
        "    images=[]\n",
        "    for i, image_name in enumerate(img_list):\n",
        "        if (image_name.split('.')[1] == 'png'):\n",
        "            image = cv2.imread(img_dir+\"/\"+image_name,0)\n",
        "            # print(img_dir+\"/\"+image_name)\n",
        "            image = cv2.resize(image,(256,256))\n",
        "            # print(\"Image - \",image.shape)\n",
        "            images.append(image)\n",
        "    images = np.array(images)\n",
        "\n",
        "    return(images)\n",
        "\n",
        "def imageLoader(img_dir, img_list, mask_dir, mask_list, batch_size):\n",
        "\n",
        "    L = len(img_list)\n",
        "\n",
        "    #keras needs the generator infinite, so we will use while true\n",
        "    while True:\n",
        "\n",
        "        batch_start = 0\n",
        "        batch_end = batch_size\n",
        "\n",
        "        while batch_start < L:\n",
        "            limit = min(batch_end, L)\n",
        "\n",
        "            X = load_img(img_dir, img_list[batch_start:limit])\n",
        "            Y = load_img(mask_dir, mask_list[batch_start:limit])\n",
        "\n",
        "            yield (X,Y) #a tuple with two numpy arrays with batch_size samples\n",
        "            batch_start += batch_size\n",
        "            batch_end += batch_size"
      ]
    },
    {
      "cell_type": "markdown",
      "metadata": {
        "id": "Eo5ycNUKXM1g"
      },
      "source": [
        "# Making the data generator"
      ]
    },
    {
      "cell_type": "code",
      "execution_count": 5,
      "metadata": {
        "id": "pXu96XjRyg4C"
      },
      "outputs": [],
      "source": [
        "train_X_dir = r\"C:\\Users\\Milan\\Desktop\\data\\final_x\"\n",
        "train_Y_dir = r\"C:\\Users\\Milan\\Desktop\\data\\final_y\"\n",
        "\n",
        "train_X_list=sorted(os.listdir(train_X_dir))\n",
        "train_Y_list = sorted(os.listdir(train_Y_dir))\n",
        "\n",
        "\n",
        "###########################################\n",
        "# val_X_dir = train_X_dir\n",
        "# val_Y_dir = train_Y_dir\n",
        "\n",
        "# val_X_list = train_X_list[300:600]\n",
        "# val_Y_list = train_Y_list[300:600]\n",
        "############################################\n",
        "\n",
        "\n",
        "val_X_dir = r\"C:\\Users\\Milan\\Desktop\\data\\final_x_val\"\n",
        "val_Y_dir = r\"C:\\Users\\Milan\\Desktop\\data\\final_y_val\"\n",
        "\n",
        "val_X_list = sorted(os.listdir(val_X_dir))\n",
        "# val_X_list = val_X_list[:100]\n",
        "val_Y_list = sorted(os.listdir(val_Y_dir))\n",
        "# val_Y_list = val_Y_list[:100]"
      ]
    },
    {
      "cell_type": "code",
      "execution_count": 6,
      "metadata": {},
      "outputs": [
        {
          "name": "stdout",
          "output_type": "stream",
          "text": [
            "['159_000103_acq-standard_T1w_corrupted.png', '159_000103_acq-standard_T1w_motion_2_corrupted.png', '159_000148_acq-standard_T1w_corrupted.png', '159_000148_acq-standard_T1w_motion_2_corrupted.png', '159_000149_acq-standard_T1w_corrupted.png', '159_000149_acq-standard_T1w_motion_2_corrupted.png', '159_000159_acq-standard_T1w_corrupted.png', '159_000159_acq-standard_T1w_motion_2_corrupted.png', '159_000175_acq-standard_T1w_corrupted.png', '159_000175_acq-standard_T1w_motion_2_corrupted.png', '159_000179_acq-standard_T1w_corrupted.png', '159_000179_acq-standard_T1w_motion_2_corrupted.png', '159_000183_acq-standard_T1w_corrupted.png', '159_000183_acq-standard_T1w_motion_2_corrupted.png', '159_003617_acq-standard_T1w_corrupted.png', '159_003617_acq-standard_T1w_motion_2_corrupted.png', '159_009673_acq-standard_T1w_corrupted.png', '159_009673_acq-standard_T1w_motion_2_corrupted.png', '159_010769_acq-standard_T1w_corrupted.png', '159_010769_acq-standard_T1w_motion_2_corrupted.png', '159_012059_acq-standard_T1w_corrupted.png', '159_012059_acq-standard_T1w_motion_2_corrupted.png', '159_012322_acq-standard_T1w_corrupted.png', '159_012322_acq-standard_T1w_motion_2_corrupted.png', '159_016504_acq-standard_T1w_corrupted.png', '159_016504_acq-standard_T1w_motion_2_corrupted.png', '159_067018_acq-standard_T1w_corrupted.png', '159_067018_acq-standard_T1w_motion_2_corrupted.png', '159_089207_acq-standard_T1w_corrupted.png', '159_089207_acq-standard_T1w_motion_2_corrupted.png', '159_105822_acq-standard_T1w_corrupted.png', '159_105822_acq-standard_T1w_motion_2_corrupted.png', '159_107738_acq-standard_T1w_corrupted.png', '159_107738_acq-standard_T1w_motion_2_corrupted.png', '159_108142_acq-standard_T1w_corrupted.png', '159_108142_acq-standard_T1w_motion_2_corrupted.png', '159_118003_acq-standard_T1w_corrupted.png', '159_118003_acq-standard_T1w_motion_2_corrupted.png', '159_122916_acq-standard_T1w_corrupted.png', '159_122916_acq-standard_T1w_motion_2_corrupted.png', '159_125171_acq-standard_T1w_corrupted.png', '159_125171_acq-standard_T1w_motion_2_corrupted.png', '159_127867_acq-standard_T1w_corrupted.png', '159_127867_acq-standard_T1w_motion_2_corrupted.png', '159_132674_acq-standard_T1w_corrupted.png', '159_132674_acq-standard_T1w_motion_2_corrupted.png', '159_136038_acq-standard_T1w_corrupted.png', '159_136038_acq-standard_T1w_motion_2_corrupted.png', '159_143104_acq-standard_T1w_corrupted.png', '159_143104_acq-standard_T1w_motion_2_corrupted.png', '159_149050_acq-standard_T1w_corrupted.png', '159_149050_acq-standard_T1w_motion_2_corrupted.png', '159_152686_acq-standard_T1w_corrupted.png', '159_152686_acq-standard_T1w_motion_2_corrupted.png', '159_153486_acq-standard_T1w_corrupted.png', '159_153486_acq-standard_T1w_motion_2_corrupted.png', '159_169618_acq-standard_T1w_corrupted.png', '159_169618_acq-standard_T1w_motion_2_corrupted.png', '159_171967_acq-standard_T1w_corrupted.png', '159_171967_acq-standard_T1w_motion_2_corrupted.png', '159_177856_acq-standard_T1w_corrupted.png', '159_177856_acq-standard_T1w_motion_2_corrupted.png', '159_182744_acq-standard_T1w_corrupted.png', '159_182744_acq-standard_T1w_motion_2_corrupted.png', '159_185823_acq-standard_T1w_corrupted.png', '159_185823_acq-standard_T1w_motion_2_corrupted.png', '159_195765_acq-standard_T1w_corrupted.png', '159_195765_acq-standard_T1w_motion_2_corrupted.png', '159_196711_acq-standard_T1w_corrupted.png', '159_196711_acq-standard_T1w_motion_2_corrupted.png', '159_212152_acq-standard_T1w_corrupted.png', '159_212152_acq-standard_T1w_motion_2_corrupted.png', '159_217720_acq-standard_T1w_corrupted.png', '159_217720_acq-standard_T1w_motion_2_corrupted.png', '159_219843_acq-standard_T1w_corrupted.png', '159_219843_acq-standard_T1w_motion_2_corrupted.png', '159_228373_acq-standard_T1w_corrupted.png', '159_228373_acq-standard_T1w_motion_2_corrupted.png', '159_253306_acq-standard_T1w_corrupted.png', '159_253306_acq-standard_T1w_motion_2_corrupted.png', '159_253493_acq-standard_T1w_corrupted.png', '159_253493_acq-standard_T1w_motion_2_corrupted.png', '159_257563_acq-standard_T1w_corrupted.png', '159_257563_acq-standard_T1w_motion_2_corrupted.png', '159_258056_acq-standard_T1w_corrupted.png', '159_258056_acq-standard_T1w_motion_2_corrupted.png', '159_261051_acq-standard_T1w_corrupted.png', '159_261051_acq-standard_T1w_motion_2_corrupted.png', '159_262577_acq-standard_T1w_corrupted.png', '159_262577_acq-standard_T1w_motion_2_corrupted.png', '159_275147_acq-standard_T1w_corrupted.png', '159_275147_acq-standard_T1w_motion_2_corrupted.png', '159_275211_acq-standard_T1w_corrupted.png', '159_275211_acq-standard_T1w_motion_2_corrupted.png', '159_278729_acq-standard_T1w_corrupted.png', '159_278729_acq-standard_T1w_motion_2_corrupted.png', '159_279373_acq-standard_T1w_corrupted.png', '159_279373_acq-standard_T1w_motion_2_corrupted.png', '159_281888_acq-standard_T1w_corrupted.png', '159_281888_acq-standard_T1w_motion_2_corrupted.png', '159_282628_acq-standard_T1w_corrupted.png', '159_282628_acq-standard_T1w_motion_2_corrupted.png', '159_292060_acq-standard_T1w_corrupted.png', '159_292060_acq-standard_T1w_motion_2_corrupted.png', '159_292213_acq-standard_T1w_corrupted.png', '159_292213_acq-standard_T1w_motion_2_corrupted.png', '159_307592_acq-standard_T1w_corrupted.png', '159_307592_acq-standard_T1w_motion_2_corrupted.png', '159_313623_acq-standard_T1w_corrupted.png', '159_313623_acq-standard_T1w_motion_2_corrupted.png', '159_335448_acq-standard_T1w_corrupted.png', '159_335448_acq-standard_T1w_motion_2_corrupted.png', '159_337488_acq-standard_T1w_corrupted.png', '159_337488_acq-standard_T1w_motion_2_corrupted.png', '159_351288_acq-standard_T1w_corrupted.png', '159_351288_acq-standard_T1w_motion_2_corrupted.png', '159_365622_acq-standard_T1w_corrupted.png', '159_365622_acq-standard_T1w_motion_2_corrupted.png', '159_367500_acq-standard_T1w_corrupted.png', '159_367500_acq-standard_T1w_motion_2_corrupted.png', '159_401697_acq-standard_T1w_corrupted.png', '159_401697_acq-standard_T1w_motion_2_corrupted.png', '159_402511_acq-standard_T1w_corrupted.png', '159_402511_acq-standard_T1w_motion_2_corrupted.png', '159_407309_acq-standard_T1w_corrupted.png', '159_407309_acq-standard_T1w_motion_2_corrupted.png', '159_409228_acq-standard_T1w_corrupted.png', '159_409228_acq-standard_T1w_motion_2_corrupted.png', '159_424015_acq-standard_T1w_corrupted.png', '159_424015_acq-standard_T1w_motion_2_corrupted.png', '159_436999_acq-standard_T1w_corrupted.png', '159_436999_acq-standard_T1w_motion_2_corrupted.png', '159_440735_acq-standard_T1w_corrupted.png', '159_440735_acq-standard_T1w_motion_2_corrupted.png', '159_441269_acq-standard_T1w_corrupted.png', '159_441269_acq-standard_T1w_motion_2_corrupted.png', '159_453666_acq-standard_T1w_corrupted.png', '159_453666_acq-standard_T1w_motion_2_corrupted.png', '159_460834_acq-standard_T1w_corrupted.png', '159_460834_acq-standard_T1w_motion_2_corrupted.png', '159_468609_acq-standard_T1w_corrupted.png', '159_468609_acq-standard_T1w_motion_2_corrupted.png', '159_502250_acq-standard_T1w_corrupted.png', '159_502250_acq-standard_T1w_motion_2_corrupted.png', '159_508037_acq-standard_T1w_corrupted.png', '159_508037_acq-standard_T1w_motion_2_corrupted.png', '159_513281_acq-standard_T1w_corrupted.png', '159_513281_acq-standard_T1w_motion_2_corrupted.png', '159_517724_acq-standard_T1w_corrupted.png', '159_517724_acq-standard_T1w_motion_2_corrupted.png', '159_519991_acq-standard_T1w_corrupted.png', '159_519991_acq-standard_T1w_motion_2_corrupted.png', '159_535925_acq-standard_T1w_corrupted.png', '159_535925_acq-standard_T1w_motion_2_corrupted.png', '159_549056_acq-standard_T1w_corrupted.png', '159_549056_acq-standard_T1w_motion_2_corrupted.png', '159_561646_acq-standard_T1w_corrupted.png', '159_561646_acq-standard_T1w_motion_2_corrupted.png', '159_567551_acq-standard_T1w_corrupted.png', '159_567551_acq-standard_T1w_motion_2_corrupted.png', '159_567742_acq-standard_T1w_corrupted.png', '159_567742_acq-standard_T1w_motion_2_corrupted.png', '159_570379_acq-standard_T1w_corrupted.png', '159_570379_acq-standard_T1w_motion_2_corrupted.png', '159_579247_acq-standard_T1w_corrupted.png', '159_579247_acq-standard_T1w_motion_2_corrupted.png', '159_581638_acq-standard_T1w_corrupted.png', '159_581638_acq-standard_T1w_motion_2_corrupted.png', '159_584264_acq-standard_T1w_corrupted.png', '159_584264_acq-standard_T1w_motion_2_corrupted.png', '159_593354_acq-standard_T1w_corrupted.png', '159_593354_acq-standard_T1w_motion_2_corrupted.png', '159_597083_acq-standard_T1w_corrupted.png', '159_597083_acq-standard_T1w_motion_2_corrupted.png', '159_598630_acq-standard_T1w_corrupted.png', '159_598630_acq-standard_T1w_motion_2_corrupted.png', '159_599619_acq-standard_T1w_corrupted.png', '159_599619_acq-standard_T1w_motion_2_corrupted.png', '159_602346_acq-standard_T1w_corrupted.png', '159_602346_acq-standard_T1w_motion_2_corrupted.png', '159_603309_acq-standard_T1w_corrupted.png', '159_603309_acq-standard_T1w_motion_2_corrupted.png', '159_607339_acq-standard_T1w_corrupted.png', '159_607339_acq-standard_T1w_motion_2_corrupted.png', '159_607974_acq-standard_T1w_corrupted.png', '159_607974_acq-standard_T1w_motion_2_corrupted.png', '159_611047_acq-standard_T1w_corrupted.png', '159_611047_acq-standard_T1w_motion_2_corrupted.png', '159_613957_acq-standard_T1w_corrupted.png', '159_613957_acq-standard_T1w_motion_2_corrupted.png', '159_630780_acq-standard_T1w_corrupted.png', '159_630780_acq-standard_T1w_motion_2_corrupted.png', '159_645865_acq-standard_T1w_corrupted.png', '159_645865_acq-standard_T1w_motion_2_corrupted.png', '159_652881_acq-standard_T1w_corrupted.png', '159_652881_acq-standard_T1w_motion_2_corrupted.png', '159_654178_acq-standard_T1w_corrupted.png', '159_654178_acq-standard_T1w_motion_2_corrupted.png', '159_654601_acq-standard_T1w_corrupted.png', '159_654601_acq-standard_T1w_motion_2_corrupted.png', '159_664050_acq-standard_T1w_corrupted.png', '159_664050_acq-standard_T1w_motion_2_corrupted.png', '159_669067_acq-standard_T1w_corrupted.png', '159_669067_acq-standard_T1w_motion_2_corrupted.png', '159_672229_acq-standard_T1w_corrupted.png', '159_672229_acq-standard_T1w_motion_2_corrupted.png', '159_678878_acq-standard_T1w_corrupted.png', '159_678878_acq-standard_T1w_motion_2_corrupted.png']\n"
          ]
        }
      ],
      "source": [
        "print(val_X_list)"
      ]
    },
    {
      "cell_type": "code",
      "execution_count": 7,
      "metadata": {},
      "outputs": [
        {
          "name": "stdout",
          "output_type": "stream",
          "text": [
            "['159_000103_acq-standard_T1w.png', '159_000103_acq-standard_motion_2_T1w.png', '159_000148_acq-standard_T1w.png', '159_000148_acq-standard_motion_2_T1w.png', '159_000149_acq-standard_T1w.png', '159_000149_acq-standard_motion_2_T1w.png', '159_000159_acq-standard_T1w.png', '159_000159_acq-standard_motion_2_T1w.png', '159_000175_acq-standard_T1w.png', '159_000175_acq-standard_motion_2_T1w.png', '159_000179_acq-standard_T1w.png', '159_000179_acq-standard_motion_2_T1w.png', '159_000183_acq-standard_T1w.png', '159_000183_acq-standard_motion_2_T1w.png', '159_003617_acq-standard_T1w.png', '159_003617_acq-standard_motion_2_T1w.png', '159_009673_acq-standard_T1w.png', '159_009673_acq-standard_motion_2_T1w.png', '159_010769_acq-standard_T1w.png', '159_010769_acq-standard_motion_2_T1w.png', '159_012059_acq-standard_T1w.png', '159_012059_acq-standard_motion_2_T1w.png', '159_012322_acq-standard_T1w.png', '159_012322_acq-standard_motion_2_T1w.png', '159_016504_acq-standard_T1w.png', '159_016504_acq-standard_motion_2_T1w.png', '159_067018_acq-standard_T1w.png', '159_067018_acq-standard_motion_2_T1w.png', '159_089207_acq-standard_T1w.png', '159_089207_acq-standard_motion_2_T1w.png', '159_105822_acq-standard_T1w.png', '159_105822_acq-standard_motion_2_T1w.png', '159_107738_acq-standard_T1w.png', '159_107738_acq-standard_motion_2_T1w.png', '159_108142_acq-standard_T1w.png', '159_108142_acq-standard_motion_2_T1w.png', '159_118003_acq-standard_T1w.png', '159_118003_acq-standard_motion_2_T1w.png', '159_122916_acq-standard_T1w.png', '159_122916_acq-standard_motion_2_T1w.png', '159_125171_acq-standard_T1w.png', '159_125171_acq-standard_motion_2_T1w.png', '159_127867_acq-standard_T1w.png', '159_127867_acq-standard_motion_2_T1w.png', '159_132674_acq-standard_T1w.png', '159_132674_acq-standard_motion_2_T1w.png', '159_136038_acq-standard_T1w.png', '159_136038_acq-standard_motion_2_T1w.png', '159_143104_acq-standard_T1w.png', '159_143104_acq-standard_motion_2_T1w.png', '159_149050_acq-standard_T1w.png', '159_149050_acq-standard_motion_2_T1w.png', '159_152686_acq-standard_T1w.png', '159_152686_acq-standard_motion_2_T1w.png', '159_153486_acq-standard_T1w.png', '159_153486_acq-standard_motion_2_T1w.png', '159_169618_acq-standard_T1w.png', '159_169618_acq-standard_motion_2_T1w.png', '159_171967_acq-standard_T1w.png', '159_171967_acq-standard_motion_2_T1w.png', '159_177856_acq-standard_T1w.png', '159_177856_acq-standard_motion_2_T1w.png', '159_182744_acq-standard_T1w.png', '159_182744_acq-standard_motion_2_T1w.png', '159_185823_acq-standard_T1w.png', '159_185823_acq-standard_motion_2_T1w.png', '159_195765_acq-standard_T1w.png', '159_195765_acq-standard_motion_2_T1w.png', '159_196711_acq-standard_T1w.png', '159_196711_acq-standard_motion_2_T1w.png', '159_212152_acq-standard_T1w.png', '159_212152_acq-standard_motion_2_T1w.png', '159_217720_acq-standard_T1w.png', '159_217720_acq-standard_motion_2_T1w.png', '159_219843_acq-standard_T1w.png', '159_219843_acq-standard_motion_2_T1w.png', '159_228373_acq-standard_T1w.png', '159_228373_acq-standard_motion_2_T1w.png', '159_253306_acq-standard_T1w.png', '159_253306_acq-standard_motion_2_T1w.png', '159_253493_acq-standard_T1w.png', '159_253493_acq-standard_motion_2_T1w.png', '159_257563_acq-standard_T1w.png', '159_257563_acq-standard_motion_2_T1w.png', '159_258056_acq-standard_T1w.png', '159_258056_acq-standard_motion_2_T1w.png', '159_261051_acq-standard_T1w.png', '159_261051_acq-standard_motion_2_T1w.png', '159_262577_acq-standard_T1w.png', '159_262577_acq-standard_motion_2_T1w.png', '159_275147_acq-standard_T1w.png', '159_275147_acq-standard_motion_2_T1w.png', '159_275211_acq-standard_T1w.png', '159_275211_acq-standard_motion_2_T1w.png', '159_278729_acq-standard_T1w.png', '159_278729_acq-standard_motion_2_T1w.png', '159_279373_acq-standard_T1w.png', '159_279373_acq-standard_motion_2_T1w.png', '159_281888_acq-standard_T1w.png', '159_281888_acq-standard_motion_2_T1w.png', '159_282628_acq-standard_T1w.png', '159_282628_acq-standard_motion_2_T1w.png', '159_292060_acq-standard_T1w.png', '159_292060_acq-standard_motion_2_T1w.png', '159_292213_acq-standard_T1w.png', '159_292213_acq-standard_motion_2_T1w.png', '159_307592_acq-standard_T1w.png', '159_307592_acq-standard_motion_2_T1w.png', '159_313623_acq-standard_T1w.png', '159_313623_acq-standard_motion_2_T1w.png', '159_335448_acq-standard_T1w.png', '159_335448_acq-standard_motion_2_T1w.png', '159_337488_acq-standard_T1w.png', '159_337488_acq-standard_motion_2_T1w.png', '159_351288_acq-standard_T1w.png', '159_351288_acq-standard_motion_2_T1w.png', '159_365622_acq-standard_T1w.png', '159_365622_acq-standard_motion_2_T1w.png', '159_367500_acq-standard_T1w.png', '159_367500_acq-standard_motion_2_T1w.png', '159_401697_acq-standard_T1w.png', '159_401697_acq-standard_motion_2_T1w.png', '159_402511_acq-standard_T1w.png', '159_402511_acq-standard_motion_2_T1w.png', '159_407309_acq-standard_T1w.png', '159_407309_acq-standard_motion_2_T1w.png', '159_409228_acq-standard_T1w.png', '159_409228_acq-standard_motion_2_T1w.png', '159_424015_acq-standard_T1w.png', '159_424015_acq-standard_motion_2_T1w.png', '159_436999_acq-standard_T1w.png', '159_436999_acq-standard_motion_2_T1w.png', '159_440735_acq-standard_T1w.png', '159_440735_acq-standard_motion_2_T1w.png', '159_441269_acq-standard_T1w.png', '159_441269_acq-standard_motion_2_T1w.png', '159_453666_acq-standard_T1w.png', '159_453666_acq-standard_motion_2_T1w.png', '159_460834_acq-standard_T1w.png', '159_460834_acq-standard_motion_2_T1w.png', '159_468609_acq-standard_T1w.png', '159_468609_acq-standard_motion_2_T1w.png', '159_502250_acq-standard_T1w.png', '159_502250_acq-standard_motion_2_T1w.png', '159_508037_acq-standard_T1w.png', '159_508037_acq-standard_motion_2_T1w.png', '159_513281_acq-standard_T1w.png', '159_513281_acq-standard_motion_2_T1w.png', '159_517724_acq-standard_T1w.png', '159_517724_acq-standard_motion_2_T1w.png', '159_519991_acq-standard_T1w.png', '159_519991_acq-standard_motion_2_T1w.png', '159_535925_acq-standard_T1w.png', '159_535925_acq-standard_motion_2_T1w.png', '159_549056_acq-standard_T1w.png', '159_549056_acq-standard_motion_2_T1w.png', '159_561646_acq-standard_T1w.png', '159_561646_acq-standard_motion_2_T1w.png', '159_567551_acq-standard_T1w.png', '159_567551_acq-standard_motion_2_T1w.png', '159_567742_acq-standard_T1w.png', '159_567742_acq-standard_motion_2_T1w.png', '159_570379_acq-standard_T1w.png', '159_570379_acq-standard_motion_2_T1w.png', '159_579247_acq-standard_T1w.png', '159_579247_acq-standard_motion_2_T1w.png', '159_581638_acq-standard_T1w.png', '159_581638_acq-standard_motion_2_T1w.png', '159_584264_acq-standard_T1w.png', '159_584264_acq-standard_motion_2_T1w.png', '159_593354_acq-standard_T1w.png', '159_593354_acq-standard_motion_2_T1w.png', '159_597083_acq-standard_T1w.png', '159_597083_acq-standard_motion_2_T1w.png', '159_598630_acq-standard_T1w.png', '159_598630_acq-standard_motion_2_T1w.png', '159_599619_acq-standard_T1w.png', '159_599619_acq-standard_motion_2_T1w.png', '159_602346_acq-standard_T1w.png', '159_602346_acq-standard_motion_2_T1w.png', '159_603309_acq-standard_T1w.png', '159_603309_acq-standard_motion_2_T1w.png', '159_607339_acq-standard_T1w.png', '159_607339_acq-standard_motion_2_T1w.png', '159_607974_acq-standard_T1w.png', '159_607974_acq-standard_motion_2_T1w.png', '159_611047_acq-standard_T1w.png', '159_611047_acq-standard_motion_2_T1w.png', '159_613957_acq-standard_T1w.png', '159_613957_acq-standard_motion_2_T1w.png', '159_630780_acq-standard_T1w.png', '159_630780_acq-standard_motion_2_T1w.png', '159_645865_acq-standard_T1w.png', '159_645865_acq-standard_motion_2_T1w.png', '159_652881_acq-standard_T1w.png', '159_652881_acq-standard_motion_2_T1w.png', '159_654178_acq-standard_T1w.png', '159_654178_acq-standard_motion_2_T1w.png', '159_654601_acq-standard_T1w.png', '159_654601_acq-standard_motion_2_T1w.png', '159_664050_acq-standard_T1w.png', '159_664050_acq-standard_motion_2_T1w.png', '159_669067_acq-standard_T1w.png', '159_669067_acq-standard_motion_2_T1w.png', '159_672229_acq-standard_T1w.png', '159_672229_acq-standard_motion_2_T1w.png', '159_678878_acq-standard_T1w.png', '159_678878_acq-standard_motion_2_T1w.png']\n"
          ]
        }
      ],
      "source": [
        "print(val_Y_list)"
      ]
    },
    {
      "cell_type": "code",
      "execution_count": 8,
      "metadata": {
        "id": "wqqnGK6PXMCe"
      },
      "outputs": [],
      "source": [
        "batch_size = 8\n",
        "\n",
        "train_img_datagen = imageLoader(train_X_dir, train_X_list,\n",
        "                                train_Y_dir, train_Y_list, batch_size)\n",
        "\n",
        "val_img_datagen = imageLoader(val_X_dir, val_X_list,\n",
        "                                val_Y_dir, val_Y_list, batch_size)"
      ]
    },
    {
      "cell_type": "markdown",
      "metadata": {
        "id": "BO3f9BZXXfGf"
      },
      "source": [
        "# Verifying the generator"
      ]
    },
    {
      "cell_type": "code",
      "execution_count": 12,
      "metadata": {
        "colab": {
          "base_uri": "https://localhost:8080/",
          "height": 308
        },
        "id": "esjf2N2g0UuH",
        "outputId": "474509c0-e4d3-4a06-8905-f94f2ecc3175"
      },
      "outputs": [
        {
          "data": {
            "text/plain": [
              "<matplotlib.image.AxesImage at 0x1ec305479d0>"
            ]
          },
          "execution_count": 12,
          "metadata": {},
          "output_type": "execute_result"
        },
        {
          "data": {
            "image/png": "[encoded data removed]",
            "text/plain": [
              "<Figure size 640x480 with 2 Axes>"
            ]
          },
          "metadata": {},
          "output_type": "display_data"
        }
      ],
      "source": [
        "img, msk = val_img_datagen.__next__()\n",
        "index = 3\n",
        "plt.subplot(121)\n",
        "plt.imshow(img[index],cmap=\"gray\")\n",
        "plt.subplot(122)\n",
        "plt.imshow(msk[index],cmap=\"gray\")"
      ]
    },
    {
      "cell_type": "code",
      "execution_count": 13,
      "metadata": {
        "colab": {
          "background_save": true
        },
        "id": "VBMu04WE3yK4",
        "outputId": "d4faeb58-5d07-42ad-93d8-8794ee537650"
      },
      "outputs": [
        {
          "name": "stdout",
          "output_type": "stream",
          "text": [
            "(8, 256, 256)\n"
          ]
        }
      ],
      "source": [
        "print(img.shape)"
      ]
    },
    {
      "cell_type": "markdown",
      "metadata": {
        "id": "RoY-LQEQZB3U"
      },
      "source": [
        "# Visualizing the loaded images"
      ]
    },
    {
      "cell_type": "markdown",
      "metadata": {
        "id": "cg7iGAPyL70G"
      },
      "source": [
        "# Attention blocks"
      ]
    },
    {
      "cell_type": "code",
      "execution_count": 14,
      "metadata": {
        "id": "Jybn9PNYL-G3"
      },
      "outputs": [],
      "source": [
        "\n",
        "# https://youtu.be/L5iV5BHkMzM\n",
        "\"\"\"\n",
        "\n",
        "Attention U-net:\n",
        "https://arxiv.org/pdf/1804.03999.pdf\n",
        "\n",
        "Recurrent residual Unet (R2U-Net) paper\n",
        "https://arxiv.org/ftp/arxiv/papers/1802/1802.06955.pdf\n",
        "(Check fig 4.)\n",
        "\n",
        "Note: Batch normalization should be performed over channels after a convolution,\n",
        "In the following code axis is set to 3 as our inputs are of shape\n",
        "[None, height, width, channel]. Channel is axis=3.\n",
        "\n",
        "Original code from below link but heavily modified.\n",
        "https://github.com/MoleImg/Attention_UNet/blob/master/AttResUNet.py\n",
        "\"\"\"\n",
        "\n",
        "import tensorflow as tf\n",
        "from tensorflow.keras import models, layers, regularizers\n",
        "from tensorflow.keras import backend as K\n",
        "\n",
        "\n",
        "\n",
        "'''\n",
        "A few useful metrics and losses\n",
        "'''\n",
        "\n",
        "def dice_coef(y_true, y_pred):\n",
        "    y_true_f = K.flatten(y_true)\n",
        "    y_pred_f = K.flatten(y_pred)\n",
        "    intersection = K.sum(y_true_f * y_pred_f)\n",
        "    return (2.0 * intersection + 1.0) / (K.sum(y_true_f) + K.sum(y_pred_f) + 1.0)\n",
        "\n",
        "\n",
        "def jacard_coef(y_true, y_pred):\n",
        "    y_true_f = K.flatten(y_true)\n",
        "    y_pred_f = K.flatten(y_pred)\n",
        "    intersection = K.sum(y_true_f * y_pred_f)\n",
        "    return (intersection + 1.0) / (K.sum(y_true_f) + K.sum(y_pred_f) - intersection + 1.0)\n",
        "\n",
        "\n",
        "def jacard_coef_loss(y_true, y_pred):\n",
        "    return -jacard_coef(y_true, y_pred)\n",
        "\n",
        "\n",
        "def dice_coef_loss(y_true, y_pred):\n",
        "    return -dice_coef(y_true, y_pred)\n",
        "\n",
        "\n",
        "##############################################################\n",
        "'''\n",
        "Useful blocks to build Unet\n",
        "\n",
        "conv - BN - Activation - conv - BN - Activation - Dropout (if enabled)\n",
        "\n",
        "'''\n",
        "\n",
        "\n",
        "def conv_block(x, filter_size, size, dropout, batch_norm=False):\n",
        "\n",
        "    conv = layers.Conv2D(size, (filter_size, filter_size), padding=\"same\")(x)\n",
        "    if batch_norm is True:\n",
        "        conv = layers.BatchNormalization(axis=3)(conv)\n",
        "    conv = layers.Activation(\"relu\")(conv)\n",
        "\n",
        "    conv = layers.Conv2D(size, (filter_size, filter_size), padding=\"same\")(conv)\n",
        "    if batch_norm is True:\n",
        "        conv = layers.BatchNormalization(axis=3)(conv)\n",
        "    conv = layers.Activation(\"relu\")(conv)\n",
        "\n",
        "    if dropout > 0:\n",
        "        conv = layers.Dropout(dropout)(conv)\n",
        "\n",
        "    return conv\n",
        "\n",
        "\n",
        "def repeat_elem(tensor, rep):\n",
        "    # lambda function to repeat Repeats the elements of a tensor along an axis\n",
        "    #by a factor of rep.\n",
        "    # If tensor has shape (None, 256,256,3), lambda will return a tensor of shape\n",
        "    #(None, 256,256,6), if specified axis=3 and rep=2.\n",
        "\n",
        "     return layers.Lambda(lambda x, repnum: K.repeat_elements(x, repnum, axis=3),\n",
        "                          arguments={'repnum': rep})(tensor)\n",
        "\n",
        "\n",
        "def res_conv_block(x, filter_size, size, dropout, batch_norm=False):\n",
        "    '''\n",
        "    Residual convolutional layer.\n",
        "    Two variants....\n",
        "    Either put activation function before the addition with shortcut\n",
        "    or after the addition (which would be as proposed in the original resNet).\n",
        "\n",
        "    1. conv - BN - Activation - conv - BN - Activation\n",
        "                                          - shortcut  - BN - shortcut+BN\n",
        "\n",
        "    2. conv - BN - Activation - conv - BN\n",
        "                                     - shortcut  - BN - shortcut+BN - Activation\n",
        "\n",
        "    Check fig 4 in https://arxiv.org/ftp/arxiv/papers/1802/1802.06955.pdf\n",
        "    '''\n",
        "\n",
        "    conv = layers.Conv2D(size, (filter_size, filter_size), padding='same')(x)\n",
        "    if batch_norm is True:\n",
        "        conv = layers.BatchNormalization(axis=3)(conv)\n",
        "    conv = layers.Activation('relu')(conv)\n",
        "\n",
        "    conv = layers.Conv2D(size, (filter_size, filter_size), padding='same')(conv)\n",
        "    if batch_norm is True:\n",
        "        conv = layers.BatchNormalization(axis=3)(conv)\n",
        "    #conv = layers.Activation('relu')(conv)    #Activation before addition with shortcut\n",
        "    if dropout > 0:\n",
        "        conv = layers.Dropout(dropout)(conv)\n",
        "\n",
        "    shortcut = layers.Conv2D(size, kernel_size=(1, 1), padding='same')(x)\n",
        "    if batch_norm is True:\n",
        "        shortcut = layers.BatchNormalization(axis=3)(shortcut)\n",
        "\n",
        "    res_path = layers.add([shortcut, conv])\n",
        "    res_path = layers.Activation('relu')(res_path)    #Activation after addition with shortcut (Original residual block)\n",
        "    return res_path\n",
        "\n",
        "def gating_signal(input, out_size, batch_norm=False):\n",
        "    \"\"\"\n",
        "    resize the down layer feature map into the same dimension as the up layer feature map\n",
        "    using 1x1 conv\n",
        "    :return: the gating feature map with the same dimension of the up layer feature map\n",
        "    \"\"\"\n",
        "    x = layers.Conv2D(out_size, (1, 1), padding='same')(input)\n",
        "    if batch_norm:\n",
        "        x = layers.BatchNormalization()(x)\n",
        "    x = layers.Activation('relu')(x)\n",
        "    return x\n",
        "\n",
        "def attention_block(x, gating, inter_shape):\n",
        "    shape_x = K.int_shape(x)\n",
        "    shape_g = K.int_shape(gating)\n",
        "\n",
        "# Getting the x signal to the same shape as the gating signal\n",
        "    theta_x = layers.Conv2D(inter_shape, (2, 2), strides=(2, 2), padding='same')(x)  # 16\n",
        "    shape_theta_x = K.int_shape(theta_x)\n",
        "\n",
        "# Getting the gating signal to the same number of filters as the inter_shape\n",
        "    phi_g = layers.Conv2D(inter_shape, (1, 1), padding='same')(gating)\n",
        "    upsample_g = layers.Conv2DTranspose(inter_shape, (3, 3),\n",
        "                                 strides=(shape_theta_x[1] // shape_g[1], shape_theta_x[2] // shape_g[2]),\n",
        "                                 padding='same')(phi_g)  # 16\n",
        "\n",
        "    concat_xg = layers.add([upsample_g, theta_x])\n",
        "    act_xg = layers.Activation('relu')(concat_xg)\n",
        "    psi = layers.Conv2D(1, (1, 1), padding='same')(act_xg)\n",
        "    sigmoid_xg = layers.Activation('sigmoid')(psi)\n",
        "    shape_sigmoid = K.int_shape(sigmoid_xg)\n",
        "    upsample_psi = layers.UpSampling2D(size=(shape_x[1] // shape_sigmoid[1], shape_x[2] // shape_sigmoid[2]))(sigmoid_xg)  # 32\n",
        "\n",
        "    upsample_psi = repeat_elem(upsample_psi, shape_x[3])\n",
        "\n",
        "    y = layers.multiply([upsample_psi, x])\n",
        "\n",
        "    result = layers.Conv2D(shape_x[3], (1, 1), padding='same')(y)\n",
        "    result_bn = layers.BatchNormalization()(result)\n",
        "    return result_bn\n"
      ]
    },
    {
      "cell_type": "markdown",
      "metadata": {
        "id": "ClIHvG1YM9sa"
      },
      "source": [
        "# Attention UNET"
      ]
    },
    {
      "cell_type": "code",
      "execution_count": 15,
      "metadata": {
        "id": "xXWSi3aqM81o"
      },
      "outputs": [],
      "source": [
        "def attention_unet_model(batch_norm = True):\n",
        "#Build the model\n",
        "    inputs = Input((240, 240, 1))\n",
        "    #s = Lambda(lambda x: x / 255)(inputs)   #No need for this if we normalize our inputs beforehand\n",
        "    s = inputs\n",
        "\n",
        "    #Contraction path\n",
        "    c1 = Conv2D(16, (3, 3), activation='relu', kernel_initializer='he_normal', padding='same')(s)\n",
        "    c1 = Dropout(0.3)(c1)\n",
        "    c1 = Conv2D(16, (3, 3), activation='relu', kernel_initializer='he_normal', padding='same')(c1)\n",
        "    p1 = MaxPooling2D((2, 2))(c1)\n",
        "\n",
        "    c2 = Conv2D(32, (3, 3), activation='relu', kernel_initializer='he_normal', padding='same')(p1)\n",
        "    c2 = Dropout(0.3)(c2)\n",
        "    c2 = Conv2D(32, (3, 3), activation='relu', kernel_initializer='he_normal', padding='same')(c2)\n",
        "    p2 = MaxPooling2D((2, 2))(c2)\n",
        "\n",
        "    c3 = Conv2D(64, (3, 3), activation='relu', kernel_initializer='he_normal', padding='same')(p2)\n",
        "    c3 = Dropout(0.4)(c3)\n",
        "    c3 = Conv2D(64, (3, 3), activation='relu', kernel_initializer='he_normal', padding='same')(c3)\n",
        "    p3 = MaxPooling2D((2, 2))(c3)\n",
        "\n",
        "    c4 = Conv2D(128, (3, 3), activation='relu', kernel_initializer='he_normal', padding='same')(p3)\n",
        "    c4 = Dropout(0.4)(c4)\n",
        "    c4 = Conv2D(128, (3, 3), activation='relu', kernel_initializer='he_normal', padding='same')(c4)\n",
        "    p4 = MaxPooling2D(pool_size=(2, 2))(c4)\n",
        "\n",
        "    c5 = Conv2D(256, (3, 3), activation='relu', kernel_initializer='he_normal', padding='same')(p4)\n",
        "    c5 = Dropout(0.5)(c5)\n",
        "    c5 = Conv2D(256, (3, 3), activation='relu', kernel_initializer='he_normal', padding='same')(c5) #deepest conv block\n",
        "\n",
        "    #Expansive path\n",
        "    #create a gating signal\n",
        "    gating_6 = gating_signal(c5, 128, batch_norm = True) #feed this and c4 to attention block\n",
        "    #getting the output from attention block by feeding gating signal and c4\n",
        "    att_6 = attention_block(c4, gating_6, 128)\n",
        "    #Conv2DTranspose the deepest block c5\n",
        "    u6 = Conv2DTranspose(128, (2, 2), strides=(2, 2), padding='same')(c5) #this is correct\n",
        "    #concatanate the upsampled block and the the output from the attention block\n",
        "    u6 = concatenate([u6, att_6])\n",
        "    c6 = Conv2D(128, (3, 3), activation='relu', kernel_initializer='he_normal', padding='same')(u6)\n",
        "    c6 = Dropout(0.4)(c6)\n",
        "    c6 = Conv2D(128, (3, 3), activation='relu', kernel_initializer='he_normal', padding='same')(c6)\n",
        "\n",
        "    gating_7 = gating_signal(c6, 64, batch_norm = True)\n",
        "    att_7 = attention_block(c3,gating_7,64)\n",
        "    u7 = Conv2DTranspose(64, (2, 2), strides=(2, 2), padding='same')(c6)\n",
        "    u7 = concatenate([u7, att_7])\n",
        "    c7 = Conv2D(64, (3, 3), activation='relu', kernel_initializer='he_normal', padding='same')(u7)\n",
        "    c7 = Dropout(0.4)(c7)\n",
        "    c7 = Conv2D(64, (3, 3), activation='relu', kernel_initializer='he_normal', padding='same')(c7)\n",
        "\n",
        "    gating_8 = gating_signal(c7, 32, batch_norm = True)\n",
        "    att_8 = attention_block(c2,gating_8,32)\n",
        "    u8 = Conv2DTranspose(32, (2, 2), strides=(2, 2), padding='same')(c7)\n",
        "    u8 = concatenate([u8, att_8])\n",
        "    c8 = Conv2D(32, (3, 3), activation='relu', kernel_initializer='he_normal', padding='same')(u8)\n",
        "    c8 = Dropout(0.3)(c8)\n",
        "    c8 = Conv2D(32, (3, 3), activation='relu', kernel_initializer='he_normal', padding='same')(c8)\n",
        "\n",
        "    gating_9 = gating_signal(c8, 16, batch_norm = True)\n",
        "    att_9 = attention_block(c1,gating_9,16)\n",
        "    u9 = Conv2DTranspose(16, (2, 2), strides=(2, 2), padding='same')(c8)\n",
        "    u9 = concatenate([u9, att_9], axis=3)\n",
        "    c9 = Conv2D(16, (3, 3), activation='relu', kernel_initializer='he_normal', padding='same')(u9)\n",
        "    c9 = Dropout(0.3)(c9)\n",
        "    c9 = Conv2D(16, (3, 3), activation='relu', kernel_initializer='he_normal', padding='same')(c9)\n",
        "\n",
        "    outputs = Conv2D(1, (1, 1), activation='relu')(c9)\n",
        "\n",
        "    model = Model(inputs=[inputs], outputs=[outputs])\n",
        "\n",
        "    #NOTE: Compile the model in the main program to make it easy to test with various loss functions\n",
        "    #model.compile(optimizer='adam', loss='binary_crossentropy', metrics=['accuracy'])\n",
        "\n",
        "    #model.summary()\n",
        "\n",
        "    return model"
      ]
    },
    {
      "cell_type": "markdown",
      "metadata": {
        "id": "eYKzX4BBYz0Y"
      },
      "source": [
        "# Basic UNET model"
      ]
    },
    {
      "cell_type": "code",
      "execution_count": 16,
      "metadata": {
        "id": "f0N3QRBQa6ah"
      },
      "outputs": [],
      "source": [
        "def multi_unet_model():\n",
        "#Build the model\n",
        "    inputs = Input((256, 256, 1))\n",
        "    #s = Lambda(lambda x: x / 255)(inputs)   #No need for this if we normalize our inputs beforehand\n",
        "    s = inputs\n",
        "\n",
        "    #Contraction path\n",
        "    c1 = Conv2D(16, (3, 3), activation='relu', kernel_initializer='he_normal', padding='same')(s)\n",
        "    c1 = Dropout(0.4)(c1)\n",
        "    c1 = Conv2D(16, (3, 3), activation='relu', kernel_initializer='he_normal', padding='same')(c1)\n",
        "    p1 = MaxPooling2D((2, 2))(c1)\n",
        "\n",
        "    c2 = Conv2D(32, (3, 3), activation='relu', kernel_initializer='he_normal', padding='same')(p1)\n",
        "    c2 = Dropout(0.4)(c2)\n",
        "    c2 = Conv2D(32, (3, 3), activation='relu', kernel_initializer='he_normal', padding='same')(c2)\n",
        "    p2 = MaxPooling2D((2, 2))(c2)\n",
        "\n",
        "    c3 = Conv2D(64, (3, 3), activation='relu', kernel_initializer='he_normal', padding='same')(p2)\n",
        "    c3 = Dropout(0.5)(c3)\n",
        "    c3 = Conv2D(64, (3, 3), activation='relu', kernel_initializer='he_normal', padding='same')(c3)\n",
        "    p3 = MaxPooling2D((2, 2))(c3)\n",
        "\n",
        "    c4 = Conv2D(128, (3, 3), activation='relu', kernel_initializer='he_normal', padding='same')(p3)\n",
        "    c4 = Dropout(0.5)(c4)\n",
        "    c4 = Conv2D(128, (3, 3), activation='relu', kernel_initializer='he_normal', padding='same')(c4)\n",
        "    p4 = MaxPooling2D(pool_size=(2, 2))(c4)\n",
        "\n",
        "    c5 = Conv2D(256, (3, 3), activation='relu', kernel_initializer='he_normal', padding='same')(p4)\n",
        "    c5 = Dropout(0.5)(c5)\n",
        "    c5 = Conv2D(256, (3, 3), activation='relu', kernel_initializer='he_normal', padding='same')(c5)\n",
        "\n",
        "    #Expansive path\n",
        "    u6 = Conv2DTranspose(128, (2, 2), strides=(2, 2), padding='same')(c5)\n",
        "    u6 = concatenate([u6, c4])\n",
        "    c6 = Conv2D(128, (3, 3), activation='relu', kernel_initializer='he_normal', padding='same')(u6)\n",
        "    c6 = Dropout(0.5)(c6)\n",
        "    c6 = Conv2D(128, (3, 3), activation='relu', kernel_initializer='he_normal', padding='same')(c6)\n",
        "\n",
        "    u7 = Conv2DTranspose(64, (2, 2), strides=(2, 2), padding='same')(c6)\n",
        "    u7 = concatenate([u7, c3])\n",
        "    c7 = Conv2D(64, (3, 3), activation='relu', kernel_initializer='he_normal', padding='same')(u7)\n",
        "    c7 = Dropout(0.5)(c7)\n",
        "    c7 = Conv2D(64, (3, 3), activation='relu', kernel_initializer='he_normal', padding='same')(c7)\n",
        "\n",
        "    u8 = Conv2DTranspose(32, (2, 2), strides=(2, 2), padding='same')(c7)\n",
        "    u8 = concatenate([u8, c2])\n",
        "    c8 = Conv2D(32, (3, 3), activation='relu', kernel_initializer='he_normal', padding='same')(u8)\n",
        "    c8 = Dropout(0.4)(c8)\n",
        "    c8 = Conv2D(32, (3, 3), activation='relu', kernel_initializer='he_normal', padding='same')(c8)\n",
        "\n",
        "    u9 = Conv2DTranspose(16, (2, 2), strides=(2, 2), padding='same')(c8)\n",
        "    u9 = concatenate([u9, c1], axis=3)\n",
        "    c9 = Conv2D(16, (3, 3), activation='relu', kernel_initializer='he_normal', padding='same')(u9)\n",
        "    c9 = Dropout(0.4)(c9)\n",
        "    c9 = Conv2D(16, (3, 3), activation='relu', kernel_initializer='he_normal', padding='same')(c9)\n",
        "\n",
        "    outputs = Conv2D(1, (1, 1), activation='relu')(c9)\n",
        "\n",
        "    model = Model(inputs=[inputs], outputs=[outputs])\n",
        "\n",
        "    #NOTE: Compile the model in the main program to make it easy to test with various loss functions\n",
        "    #model.compile(optimizer='adam', loss='binary_crossentropy', metrics=['accuracy'])\n",
        "\n",
        "    #model.summary()\n",
        "\n",
        "    return model"
      ]
    },
    {
      "cell_type": "markdown",
      "metadata": {
        "id": "ktPBflBpZBC4"
      },
      "source": [
        "# Defining metrics"
      ]
    },
    {
      "cell_type": "code",
      "execution_count": 17,
      "metadata": {
        "id": "X4Y1Ji2hVWl5"
      },
      "outputs": [],
      "source": [
        "import tensorflow as tf\n",
        "from skimage.metrics import structural_similarity as ssim\n",
        "from skimage.metrics import peak_signal_noise_ratio as psnr\n",
        "from tensorflow.keras import backend as K\n",
        "\n",
        "def ssim_metric(y_true, y_pred):\n",
        "    return tf.image.ssim(y_true, y_pred, max_val=255.0)\n",
        "\n",
        "def psnr_metric(y_true, y_pred):\n",
        "    return tf.image.psnr(y_true, y_pred, max_val=255.0)\n",
        "\n",
        "# Custom metric for PSNR using Keras backend\n",
        "def psnr_metric_keras(y_true, y_pred):\n",
        "    return -10.0 * K.log(K.mean(K.square(y_pred - y_true))) / K.log(10.0)\n"
      ]
    },
    {
      "cell_type": "markdown",
      "metadata": {
        "id": "zjDcaq48kJsg"
      },
      "source": [
        "# Creating a Checkpoint"
      ]
    },
    {
      "cell_type": "code",
      "execution_count": null,
      "metadata": {
        "id": "Yzhh_lY0VYKx"
      },
      "outputs": [],
      "source": [
        "\n",
        "# Include the epoch in the file name (uses `str.format`)\n",
        "checkpoint_path = r\"C:\\Users\\Milan\\Desktop\\checkpoint/cp-{epoch:04d}.ckpt\"\n",
        "checkpoint_dir = os.path.dirname(checkpoint_path)\n",
        "\n",
        "# Calculate the number of batches per epoch\n",
        "import math\n",
        "n_batches = 1051 / batch_size\n",
        "n_batches = math.ceil(n_batches)    # round up the number of batches to the nearest whole integer\n",
        "\n",
        "# Create a callback that saves the model's weights every 5 epochs\n",
        "cp_callback = tf.keras.callbacks.ModelCheckpoint(\n",
        "    filepath=checkpoint_path,\n",
        "    verbose=1,\n",
        "    save_weights_only=True,\n",
        "    save_freq=10*n_batches)"
      ]
    },
    {
      "cell_type": "code",
      "execution_count": 18,
      "metadata": {
        "colab": {
          "base_uri": "https://localhost:8080/"
        },
        "id": "3Drrib_NjEU0",
        "outputId": "3631febd-7b28-4ef7-f0d1-ec523c395ed5"
      },
      "outputs": [
        {
          "name": "stdout",
          "output_type": "stream",
          "text": [
            "Model: \"model\"\n",
            "__________________________________________________________________________________________________\n",
            " Layer (type)                   Output Shape         Param #     Connected to                     \n",
            "==================================================================================================\n",
            " input_1 (InputLayer)           [(None, 240, 240, 1  0           []                               \n",
            "                                )]                                                                \n",
            "                                                                                                  \n",
            " conv2d (Conv2D)                (None, 240, 240, 16  160         ['input_1[0][0]']                \n",
            "                                )                                                                 \n",
            "                                                                                                  \n",
            " dropout (Dropout)              (None, 240, 240, 16  0           ['conv2d[0][0]']                 \n",
            "                                )                                                                 \n",
            "                                                                                                  \n",
            " conv2d_1 (Conv2D)              (None, 240, 240, 16  2320        ['dropout[0][0]']                \n",
            "                                )                                                                 \n",
            "                                                                                                  \n",
            " max_pooling2d (MaxPooling2D)   (None, 120, 120, 16  0           ['conv2d_1[0][0]']               \n",
            "                                )                                                                 \n",
            "                                                                                                  \n",
            " conv2d_2 (Conv2D)              (None, 120, 120, 32  4640        ['max_pooling2d[0][0]']          \n",
            "                                )                                                                 \n",
            "                                                                                                  \n",
            " dropout_1 (Dropout)            (None, 120, 120, 32  0           ['conv2d_2[0][0]']               \n",
            "                                )                                                                 \n",
            "                                                                                                  \n",
            " conv2d_3 (Conv2D)              (None, 120, 120, 32  9248        ['dropout_1[0][0]']              \n",
            "                                )                                                                 \n",
            "                                                                                                  \n",
            " max_pooling2d_1 (MaxPooling2D)  (None, 60, 60, 32)  0           ['conv2d_3[0][0]']               \n",
            "                                                                                                  \n",
            " conv2d_4 (Conv2D)              (None, 60, 60, 64)   18496       ['max_pooling2d_1[0][0]']        \n",
            "                                                                                                  \n",
            " dropout_2 (Dropout)            (None, 60, 60, 64)   0           ['conv2d_4[0][0]']               \n",
            "                                                                                                  \n",
            " conv2d_5 (Conv2D)              (None, 60, 60, 64)   36928       ['dropout_2[0][0]']              \n",
            "                                                                                                  \n",
            " max_pooling2d_2 (MaxPooling2D)  (None, 30, 30, 64)  0           ['conv2d_5[0][0]']               \n",
            "                                                                                                  \n",
            " conv2d_6 (Conv2D)              (None, 30, 30, 128)  73856       ['max_pooling2d_2[0][0]']        \n",
            "                                                                                                  \n",
            " dropout_3 (Dropout)            (None, 30, 30, 128)  0           ['conv2d_6[0][0]']               \n",
            "                                                                                                  \n",
            " conv2d_7 (Conv2D)              (None, 30, 30, 128)  147584      ['dropout_3[0][0]']              \n",
            "                                                                                                  \n",
            " max_pooling2d_3 (MaxPooling2D)  (None, 15, 15, 128)  0          ['conv2d_7[0][0]']               \n",
            "                                                                                                  \n",
            " conv2d_8 (Conv2D)              (None, 15, 15, 256)  295168      ['max_pooling2d_3[0][0]']        \n",
            "                                                                                                  \n",
            " dropout_4 (Dropout)            (None, 15, 15, 256)  0           ['conv2d_8[0][0]']               \n",
            "                                                                                                  \n",
            " conv2d_9 (Conv2D)              (None, 15, 15, 256)  590080      ['dropout_4[0][0]']              \n",
            "                                                                                                  \n",
            " conv2d_10 (Conv2D)             (None, 15, 15, 128)  32896       ['conv2d_9[0][0]']               \n",
            "                                                                                                  \n",
            " batch_normalization (BatchNorm  (None, 15, 15, 128)  512        ['conv2d_10[0][0]']              \n",
            " alization)                                                                                       \n",
            "                                                                                                  \n",
            " activation (Activation)        (None, 15, 15, 128)  0           ['batch_normalization[0][0]']    \n",
            "                                                                                                  \n",
            " conv2d_12 (Conv2D)             (None, 15, 15, 128)  16512       ['activation[0][0]']             \n",
            "                                                                                                  \n",
            " conv2d_transpose (Conv2DTransp  (None, 15, 15, 128)  147584     ['conv2d_12[0][0]']              \n",
            " ose)                                                                                             \n",
            "                                                                                                  \n",
            " conv2d_11 (Conv2D)             (None, 15, 15, 128)  65664       ['conv2d_7[0][0]']               \n",
            "                                                                                                  \n",
            " add (Add)                      (None, 15, 15, 128)  0           ['conv2d_transpose[0][0]',       \n",
            "                                                                  'conv2d_11[0][0]']              \n",
            "                                                                                                  \n",
            " activation_1 (Activation)      (None, 15, 15, 128)  0           ['add[0][0]']                    \n",
            "                                                                                                  \n",
            " conv2d_13 (Conv2D)             (None, 15, 15, 1)    129         ['activation_1[0][0]']           \n",
            "                                                                                                  \n",
            " activation_2 (Activation)      (None, 15, 15, 1)    0           ['conv2d_13[0][0]']              \n",
            "                                                                                                  \n",
            " up_sampling2d (UpSampling2D)   (None, 30, 30, 1)    0           ['activation_2[0][0]']           \n",
            "                                                                                                  \n",
            " lambda (Lambda)                (None, 30, 30, 128)  0           ['up_sampling2d[0][0]']          \n",
            "                                                                                                  \n",
            " multiply (Multiply)            (None, 30, 30, 128)  0           ['lambda[0][0]',                 \n",
            "                                                                  'conv2d_7[0][0]']               \n",
            "                                                                                                  \n",
            " conv2d_14 (Conv2D)             (None, 30, 30, 128)  16512       ['multiply[0][0]']               \n",
            "                                                                                                  \n",
            " conv2d_transpose_1 (Conv2DTran  (None, 30, 30, 128)  131200     ['conv2d_9[0][0]']               \n",
            " spose)                                                                                           \n",
            "                                                                                                  \n",
            " batch_normalization_1 (BatchNo  (None, 30, 30, 128)  512        ['conv2d_14[0][0]']              \n",
            " rmalization)                                                                                     \n",
            "                                                                                                  \n",
            " concatenate (Concatenate)      (None, 30, 30, 256)  0           ['conv2d_transpose_1[0][0]',     \n",
            "                                                                  'batch_normalization_1[0][0]']  \n",
            "                                                                                                  \n",
            " conv2d_15 (Conv2D)             (None, 30, 30, 128)  295040      ['concatenate[0][0]']            \n",
            "                                                                                                  \n",
            " dropout_5 (Dropout)            (None, 30, 30, 128)  0           ['conv2d_15[0][0]']              \n",
            "                                                                                                  \n",
            " conv2d_16 (Conv2D)             (None, 30, 30, 128)  147584      ['dropout_5[0][0]']              \n",
            "                                                                                                  \n",
            " conv2d_17 (Conv2D)             (None, 30, 30, 64)   8256        ['conv2d_16[0][0]']              \n",
            "                                                                                                  \n",
            " batch_normalization_2 (BatchNo  (None, 30, 30, 64)  256         ['conv2d_17[0][0]']              \n",
            " rmalization)                                                                                     \n",
            "                                                                                                  \n",
            " activation_3 (Activation)      (None, 30, 30, 64)   0           ['batch_normalization_2[0][0]']  \n",
            "                                                                                                  \n",
            " conv2d_19 (Conv2D)             (None, 30, 30, 64)   4160        ['activation_3[0][0]']           \n",
            "                                                                                                  \n",
            " conv2d_transpose_2 (Conv2DTran  (None, 30, 30, 64)  36928       ['conv2d_19[0][0]']              \n",
            " spose)                                                                                           \n",
            "                                                                                                  \n",
            " conv2d_18 (Conv2D)             (None, 30, 30, 64)   16448       ['conv2d_5[0][0]']               \n",
            "                                                                                                  \n",
            " add_1 (Add)                    (None, 30, 30, 64)   0           ['conv2d_transpose_2[0][0]',     \n",
            "                                                                  'conv2d_18[0][0]']              \n",
            "                                                                                                  \n",
            " activation_4 (Activation)      (None, 30, 30, 64)   0           ['add_1[0][0]']                  \n",
            "                                                                                                  \n",
            " conv2d_20 (Conv2D)             (None, 30, 30, 1)    65          ['activation_4[0][0]']           \n",
            "                                                                                                  \n",
            " activation_5 (Activation)      (None, 30, 30, 1)    0           ['conv2d_20[0][0]']              \n",
            "                                                                                                  \n",
            " up_sampling2d_1 (UpSampling2D)  (None, 60, 60, 1)   0           ['activation_5[0][0]']           \n",
            "                                                                                                  \n",
            " lambda_1 (Lambda)              (None, 60, 60, 64)   0           ['up_sampling2d_1[0][0]']        \n",
            "                                                                                                  \n",
            " multiply_1 (Multiply)          (None, 60, 60, 64)   0           ['lambda_1[0][0]',               \n",
            "                                                                  'conv2d_5[0][0]']               \n",
            "                                                                                                  \n",
            " conv2d_21 (Conv2D)             (None, 60, 60, 64)   4160        ['multiply_1[0][0]']             \n",
            "                                                                                                  \n",
            " conv2d_transpose_3 (Conv2DTran  (None, 60, 60, 64)  32832       ['conv2d_16[0][0]']              \n",
            " spose)                                                                                           \n",
            "                                                                                                  \n",
            " batch_normalization_3 (BatchNo  (None, 60, 60, 64)  256         ['conv2d_21[0][0]']              \n",
            " rmalization)                                                                                     \n",
            "                                                                                                  \n",
            " concatenate_1 (Concatenate)    (None, 60, 60, 128)  0           ['conv2d_transpose_3[0][0]',     \n",
            "                                                                  'batch_normalization_3[0][0]']  \n",
            "                                                                                                  \n",
            " conv2d_22 (Conv2D)             (None, 60, 60, 64)   73792       ['concatenate_1[0][0]']          \n",
            "                                                                                                  \n",
            " dropout_6 (Dropout)            (None, 60, 60, 64)   0           ['conv2d_22[0][0]']              \n",
            "                                                                                                  \n",
            " conv2d_23 (Conv2D)             (None, 60, 60, 64)   36928       ['dropout_6[0][0]']              \n",
            "                                                                                                  \n",
            " conv2d_24 (Conv2D)             (None, 60, 60, 32)   2080        ['conv2d_23[0][0]']              \n",
            "                                                                                                  \n",
            " batch_normalization_4 (BatchNo  (None, 60, 60, 32)  128         ['conv2d_24[0][0]']              \n",
            " rmalization)                                                                                     \n",
            "                                                                                                  \n",
            " activation_6 (Activation)      (None, 60, 60, 32)   0           ['batch_normalization_4[0][0]']  \n",
            "                                                                                                  \n",
            " conv2d_26 (Conv2D)             (None, 60, 60, 32)   1056        ['activation_6[0][0]']           \n",
            "                                                                                                  \n",
            " conv2d_transpose_4 (Conv2DTran  (None, 60, 60, 32)  9248        ['conv2d_26[0][0]']              \n",
            " spose)                                                                                           \n",
            "                                                                                                  \n",
            " conv2d_25 (Conv2D)             (None, 60, 60, 32)   4128        ['conv2d_3[0][0]']               \n",
            "                                                                                                  \n",
            " add_2 (Add)                    (None, 60, 60, 32)   0           ['conv2d_transpose_4[0][0]',     \n",
            "                                                                  'conv2d_25[0][0]']              \n",
            "                                                                                                  \n",
            " activation_7 (Activation)      (None, 60, 60, 32)   0           ['add_2[0][0]']                  \n",
            "                                                                                                  \n",
            " conv2d_27 (Conv2D)             (None, 60, 60, 1)    33          ['activation_7[0][0]']           \n",
            "                                                                                                  \n",
            " activation_8 (Activation)      (None, 60, 60, 1)    0           ['conv2d_27[0][0]']              \n",
            "                                                                                                  \n",
            " up_sampling2d_2 (UpSampling2D)  (None, 120, 120, 1)  0          ['activation_8[0][0]']           \n",
            "                                                                                                  \n",
            " lambda_2 (Lambda)              (None, 120, 120, 32  0           ['up_sampling2d_2[0][0]']        \n",
            "                                )                                                                 \n",
            "                                                                                                  \n",
            " multiply_2 (Multiply)          (None, 120, 120, 32  0           ['lambda_2[0][0]',               \n",
            "                                )                                 'conv2d_3[0][0]']               \n",
            "                                                                                                  \n",
            " conv2d_28 (Conv2D)             (None, 120, 120, 32  1056        ['multiply_2[0][0]']             \n",
            "                                )                                                                 \n",
            "                                                                                                  \n",
            " conv2d_transpose_5 (Conv2DTran  (None, 120, 120, 32  8224       ['conv2d_23[0][0]']              \n",
            " spose)                         )                                                                 \n",
            "                                                                                                  \n",
            " batch_normalization_5 (BatchNo  (None, 120, 120, 32  128        ['conv2d_28[0][0]']              \n",
            " rmalization)                   )                                                                 \n",
            "                                                                                                  \n",
            " concatenate_2 (Concatenate)    (None, 120, 120, 64  0           ['conv2d_transpose_5[0][0]',     \n",
            "                                )                                 'batch_normalization_5[0][0]']  \n",
            "                                                                                                  \n",
            " conv2d_29 (Conv2D)             (None, 120, 120, 32  18464       ['concatenate_2[0][0]']          \n",
            "                                )                                                                 \n",
            "                                                                                                  \n",
            " dropout_7 (Dropout)            (None, 120, 120, 32  0           ['conv2d_29[0][0]']              \n",
            "                                )                                                                 \n",
            "                                                                                                  \n",
            " conv2d_30 (Conv2D)             (None, 120, 120, 32  9248        ['dropout_7[0][0]']              \n",
            "                                )                                                                 \n",
            "                                                                                                  \n",
            " conv2d_31 (Conv2D)             (None, 120, 120, 16  528         ['conv2d_30[0][0]']              \n",
            "                                )                                                                 \n",
            "                                                                                                  \n",
            " batch_normalization_6 (BatchNo  (None, 120, 120, 16  64         ['conv2d_31[0][0]']              \n",
            " rmalization)                   )                                                                 \n",
            "                                                                                                  \n",
            " activation_9 (Activation)      (None, 120, 120, 16  0           ['batch_normalization_6[0][0]']  \n",
            "                                )                                                                 \n",
            "                                                                                                  \n",
            " conv2d_33 (Conv2D)             (None, 120, 120, 16  272         ['activation_9[0][0]']           \n",
            "                                )                                                                 \n",
            "                                                                                                  \n",
            " conv2d_transpose_6 (Conv2DTran  (None, 120, 120, 16  2320       ['conv2d_33[0][0]']              \n",
            " spose)                         )                                                                 \n",
            "                                                                                                  \n",
            " conv2d_32 (Conv2D)             (None, 120, 120, 16  1040        ['conv2d_1[0][0]']               \n",
            "                                )                                                                 \n",
            "                                                                                                  \n",
            " add_3 (Add)                    (None, 120, 120, 16  0           ['conv2d_transpose_6[0][0]',     \n",
            "                                )                                 'conv2d_32[0][0]']              \n",
            "                                                                                                  \n",
            " activation_10 (Activation)     (None, 120, 120, 16  0           ['add_3[0][0]']                  \n",
            "                                )                                                                 \n",
            "                                                                                                  \n",
            " conv2d_34 (Conv2D)             (None, 120, 120, 1)  17          ['activation_10[0][0]']          \n",
            "                                                                                                  \n",
            " activation_11 (Activation)     (None, 120, 120, 1)  0           ['conv2d_34[0][0]']              \n",
            "                                                                                                  \n",
            " up_sampling2d_3 (UpSampling2D)  (None, 240, 240, 1)  0          ['activation_11[0][0]']          \n",
            "                                                                                                  \n",
            " lambda_3 (Lambda)              (None, 240, 240, 16  0           ['up_sampling2d_3[0][0]']        \n",
            "                                )                                                                 \n",
            "                                                                                                  \n",
            " multiply_3 (Multiply)          (None, 240, 240, 16  0           ['lambda_3[0][0]',               \n",
            "                                )                                 'conv2d_1[0][0]']               \n",
            "                                                                                                  \n",
            " conv2d_35 (Conv2D)             (None, 240, 240, 16  272         ['multiply_3[0][0]']             \n",
            "                                )                                                                 \n",
            "                                                                                                  \n",
            " conv2d_transpose_7 (Conv2DTran  (None, 240, 240, 16  2064       ['conv2d_30[0][0]']              \n",
            " spose)                         )                                                                 \n",
            "                                                                                                  \n",
            " batch_normalization_7 (BatchNo  (None, 240, 240, 16  64         ['conv2d_35[0][0]']              \n",
            " rmalization)                   )                                                                 \n",
            "                                                                                                  \n",
            " concatenate_3 (Concatenate)    (None, 240, 240, 32  0           ['conv2d_transpose_7[0][0]',     \n",
            "                                )                                 'batch_normalization_7[0][0]']  \n",
            "                                                                                                  \n",
            " conv2d_36 (Conv2D)             (None, 240, 240, 16  4624        ['concatenate_3[0][0]']          \n",
            "                                )                                                                 \n",
            "                                                                                                  \n",
            " dropout_8 (Dropout)            (None, 240, 240, 16  0           ['conv2d_36[0][0]']              \n",
            "                                )                                                                 \n",
            "                                                                                                  \n",
            " conv2d_37 (Conv2D)             (None, 240, 240, 16  2320        ['dropout_8[0][0]']              \n",
            "                                )                                                                 \n",
            "                                                                                                  \n",
            " conv2d_38 (Conv2D)             (None, 240, 240, 1)  17          ['conv2d_37[0][0]']              \n",
            "                                                                                                  \n",
            "==================================================================================================\n",
            "Total params: 2,314,101\n",
            "Trainable params: 2,313,141\n",
            "Non-trainable params: 960\n",
            "__________________________________________________________________________________________________\n"
          ]
        }
      ],
      "source": [
        "from tensorflow.keras.optimizers import Adam\n",
        "from tensorflow.keras.losses import MeanSquaredError\n",
        "\n",
        "IMG_HEIGHT = 256\n",
        "IMG_WIDTH  =  256\n",
        "IMG_CHANNELS = 4\n",
        "\n",
        "def get_model():\n",
        "    return attention_unet_model()\n",
        "\n",
        "model = get_model()\n",
        "model.compile(optimizer=Adam(), loss=MeanSquaredError(),metrics=[psnr_metric_keras])\n",
        "#model.compile(optimizer='adam', loss=ca, metrics=[accuracy])\n",
        "model.summary()"
      ]
    },
    {
      "cell_type": "code",
      "execution_count": null,
      "metadata": {
        "id": "jtMbEkG3qVa0"
      },
      "outputs": [],
      "source": [
        "steps_per_epoch = len(train_X_list)//batch_size\n",
        "val_steps_per_epoch = len(val_X_list)//batch_size"
      ]
    },
    {
      "cell_type": "code",
      "execution_count": null,
      "metadata": {
        "colab": {
          "base_uri": "https://localhost:8080/"
        },
        "id": "YywvHDtpjG9z",
        "outputId": "f620ba55-7eea-4045-ad0c-cfed3ef417c0"
      },
      "outputs": [],
      "source": [
        "history = model.fit(train_img_datagen,\n",
        "                    steps_per_epoch=steps_per_epoch,\n",
        "                    verbose=1,\n",
        "                    epochs=11,\n",
        "                    validation_data=val_img_datagen,\n",
        "                    validation_steps=val_steps_per_epoch,\n",
        "                    callbacks=[cp_callback],\n",
        "                    shuffle=False)"
      ]
    },
    {
      "cell_type": "code",
      "execution_count": null,
      "metadata": {
        "colab": {
          "base_uri": "https://localhost:8080/",
          "height": 472
        },
        "id": "iuoWi4lTkPc6",
        "outputId": "4aa749ed-b2d0-49f9-b1df-4d9d2ea69ce3"
      },
      "outputs": [],
      "source": [
        "###\n",
        "#plot the training and validation accuracy and loss at each epoch\n",
        "loss = history.history['loss']\n",
        "val_loss = history.history['val_loss']\n",
        "epochs = range(1, len(loss) + 1)\n",
        "plt.plot(epochs, loss, 'y', label='Training loss')\n",
        "plt.plot(epochs, val_loss, 'r', label='Validation loss')\n",
        "plt.title('Training and validation loss')\n",
        "plt.xlabel('Epochs')\n",
        "plt.ylabel('Loss')\n",
        "plt.legend()\n",
        "plt.show()"
      ]
    },
    {
      "cell_type": "code",
      "execution_count": null,
      "metadata": {
        "id": "eGELS4ok1g2x"
      },
      "outputs": [],
      "source": [
        "for i in history.history.items():\n",
        "  print(i)"
      ]
    },
    {
      "cell_type": "code",
      "execution_count": null,
      "metadata": {
        "id": "vOOR87_9kYxy"
      },
      "outputs": [],
      "source": [
        "acc = history.history['jacard_coef']\n",
        "val_acc = history.history['val_jacard_coef']\n",
        "\n",
        "plt.plot(epochs, acc, 'y', label='Training Accuracy')\n",
        "plt.plot(epochs, val_acc, 'r', label='Validation Accuracy')\n",
        "plt.title('Training and validation Accuracy')\n",
        "plt.xlabel('Epochs')\n",
        "plt.ylabel('Accuracy')\n",
        "plt.legend()\n",
        "plt.show()"
      ]
    },
    {
      "cell_type": "code",
      "execution_count": null,
      "metadata": {
        "id": "iv7JsEo4tOho"
      },
      "outputs": [],
      "source": [
        "np.save(\"/content/drive/MyDrive/deblur_results/training_loss.npy\",np.array(loss))\n",
        "np.save(\"/content/drive/MyDrive/deblur_results/val_loss.npy\",np.array(val_loss))\n",
        "np.save(\"/content/drive/MyDrive/focal5/training_jaccard.npy\",np.array(acc))\n",
        "np.save(\"/content/drive/MyDrive/focal5/val_jaccard.npy\",np.array(val_acc))\n",
        "np.save(\"/content/drive/MyDrive/focal5/epochs.npy\",range(1, len(np.array(loss)) + 1))"
      ]
    },
    {
      "cell_type": "code",
      "execution_count": null,
      "metadata": {
        "id": "c93WmIbuv7QR"
      },
      "outputs": [],
      "source": [
        "# loss_1 = np.load(\"/content/drive/MyDrive/small_UNET_models/training_loss.npy\")\n",
        "# epoch_1 = np.load(\"/content/drive/MyDrive/small_UNET_models/epochs.npy\")\n",
        "\n",
        "# plt.plot(epoch_1, loss_1, 'y', label='Training loss')\n",
        "# # plt.plot(epochs, val_loss, 'r', label='Validation loss')\n",
        "# plt.title('Training and validation loss')\n",
        "# plt.xlabel('Epochs')\n",
        "# plt.ylabel('Loss')\n",
        "# plt.legend()\n",
        "# plt.show()\n"
      ]
    },
    {
      "cell_type": "code",
      "execution_count": null,
      "metadata": {
        "id": "21dI4R3Ty8kZ"
      },
      "outputs": [],
      "source": [
        "img, msk = val_img_datagen.__next__()"
      ]
    },
    {
      "cell_type": "markdown",
      "metadata": {
        "id": "OdfobumkxRtW"
      },
      "source": [
        "##making predictions on test dataset"
      ]
    },
    {
      "cell_type": "code",
      "execution_count": null,
      "metadata": {
        "colab": {
          "base_uri": "https://localhost:8080/",
          "height": 408
        },
        "id": "D6w7tqWZke9a",
        "outputId": "b4a9e83b-5621-49e4-8140-b160b47ec83d"
      },
      "outputs": [],
      "source": [
        "img, msk = val_img_datagen.__next__()\n",
        "import random\n",
        "test_img_number = random.randint(0, len(img)-1)#6 is good\n",
        "# test_img_number = 6\n",
        "test_img = img[test_img_number]\n",
        "ground_truth=msk[test_img_number]\n",
        "#test_img_norm=test_img[:,:,0][:,:,None]\n",
        "test_img_input=np.expand_dims(test_img, 0)\n",
        "prediction = (model.predict(test_img_input))\n",
        "prediction = np.reshape(prediction,(256,256))\n",
        "print(test_img.shape)\n",
        "print(ground_truth.shape)\n",
        "\n",
        "\n",
        "plt.figure(figsize=(12, 8))\n",
        "plt.subplot(131)\n",
        "plt.title('Testing Image')\n",
        "plt.imshow(test_img, cmap='gray') #only the first channel is displayed\n",
        "\n",
        "plt.subplot(132)\n",
        "plt.title('Original Label')\n",
        "plt.imshow(ground_truth, cmap='gray')\n",
        "\n",
        "plt.subplot(133)\n",
        "plt.title('Predicted ')\n",
        "plt.imshow(prediction, cmap='gray')\n",
        "plt.show()\n",
        "\n",
        "# focal_loss = FocalLoss()\n",
        "# loss = focal_loss.call(ground_truth, predicted_img)\n",
        "# print(loss)\n",
        "# # IOU = jacard_coef(ground_truth, predicted_img)\n",
        "# # print(IOU)"
      ]
    },
    {
      "cell_type": "markdown",
      "metadata": {
        "id": "b73W3P0DTLm_"
      },
      "source": [
        "##Loading the last checkpoint"
      ]
    },
    {
      "cell_type": "code",
      "execution_count": 19,
      "metadata": {
        "colab": {
          "base_uri": "https://localhost:8080/"
        },
        "id": "SLWwowrXT3wv",
        "outputId": "0aa2d168-2712-43df-8ce1-2eb1c0ed7031"
      },
      "outputs": [
        {
          "ename": "NameError",
          "evalue": "name 'FocalLoss' is not defined",
          "output_type": "error",
          "traceback": [
            "\u001b[1;31m---------------------------------------------------------------------------\u001b[0m",
            "\u001b[1;31mNameError\u001b[0m                                 Traceback (most recent call last)",
            "Cell \u001b[1;32mIn[19], line 2\u001b[0m\n\u001b[0;32m      1\u001b[0m model \u001b[38;5;241m=\u001b[39m multi_unet_model()\n\u001b[1;32m----> 2\u001b[0m model\u001b[38;5;241m.\u001b[39mcompile(optimizer\u001b[38;5;241m=\u001b[39m\u001b[38;5;124m'\u001b[39m\u001b[38;5;124madam\u001b[39m\u001b[38;5;124m'\u001b[39m, loss\u001b[38;5;241m=\u001b[39m \u001b[43mFocalLoss\u001b[49m(), metrics\u001b[38;5;241m=\u001b[39m[jacard_coef])\n\u001b[0;32m      4\u001b[0m \u001b[38;5;66;03m# Load the previously saved weights\u001b[39;00m\n\u001b[0;32m      5\u001b[0m model\u001b[38;5;241m.\u001b[39mload_weights(\u001b[38;5;124mr\u001b[39m\u001b[38;5;124m\"\u001b[39m\u001b[38;5;124mC:\u001b[39m\u001b[38;5;124m\\\u001b[39m\u001b[38;5;124mUsers\u001b[39m\u001b[38;5;124m\\\u001b[39m\u001b[38;5;124mMilan\u001b[39m\u001b[38;5;124m\\\u001b[39m\u001b[38;5;124mDesktop\u001b[39m\u001b[38;5;124m\\\u001b[39m\u001b[38;5;124mcheckpoint/cp-0059.ckpt\u001b[39m\u001b[38;5;124m\"\u001b[39m)\n",
            "\u001b[1;31mNameError\u001b[0m: name 'FocalLoss' is not defined"
          ]
        }
      ],
      "source": [
        "model = multi_unet_model()\n",
        "model.compile(optimizer='adam', loss= FocalLoss(), metrics=[jacard_coef])\n",
        "\n",
        "# Load the previously saved weights\n",
        "model.load_weights(r\"C:\\Users\\Milan\\Desktop\\checkpoint/cp-0059.ckpt\")"
      ]
    },
    {
      "cell_type": "code",
      "execution_count": null,
      "metadata": {
        "id": "Pn0u6G5m-9WQ"
      },
      "outputs": [],
      "source": [
        "img, msk = val_img_datagen.__next__()"
      ]
    },
    {
      "cell_type": "code",
      "execution_count": null,
      "metadata": {
        "colab": {
          "base_uri": "https://localhost:8080/",
          "height": 408
        },
        "id": "Q4ad2ptvUKtj",
        "outputId": "bb183ad2-3877-4847-854e-caba59f29e40"
      },
      "outputs": [],
      "source": [
        "#Predict on a few images\n",
        "#model = get_model()\n",
        "#model.load_weights('???.hdf5')\n",
        "img, msk = val_img_datagen.__next__()\n",
        "import random\n",
        "test_img_number = random.randint(0, len(img)-1)\n",
        "# test_img_number = 6\n",
        "test_img = img[test_img_number]\n",
        "ground_truth=msk[test_img_number]\n",
        "#test_img_norm=test_img[:,:,0][:,:,None]\n",
        "test_img_input=np.expand_dims(test_img, 0)\n",
        "prediction = (model.predict(test_img_input))\n",
        "prediction = np.reshape(prediction,(256,256))\n",
        "print(test_img.shape)\n",
        "print(ground_truth.shape)\n",
        "\n",
        "\n",
        "plt.figure(figsize=(12, 8))\n",
        "plt.subplot(131)\n",
        "plt.title('BLurred Image')\n",
        "plt.imshow(test_img, cmap='gray') #only the first channel is displayed\n",
        "\n",
        "plt.subplot(132)\n",
        "plt.title('Ground Truth')\n",
        "plt.imshow(ground_truth, cmap='gray')\n",
        "\n",
        "plt.subplot(133)\n",
        "plt.title('Predicted ')\n",
        "plt.imshow(prediction, cmap='gray')\n",
        "plt.show()\n",
        "\n",
        "# focal_loss = FocalLoss()\n",
        "# loss = focal_loss.call(ground_truth, predicted_img)\n",
        "# print(loss)\n",
        "# # IOU = jacard_coef(ground_truth, predicted_img)\n",
        "# # print(IOU)"
      ]
    },
    {
      "cell_type": "markdown",
      "metadata": {
        "id": "s0Hp0JoiTmIR"
      },
      "source": [
        "# Start training from a checkpoint"
      ]
    },
    {
      "cell_type": "code",
      "execution_count": null,
      "metadata": {
        "id": "EUXq4wKtxraJ"
      },
      "outputs": [],
      "source": [
        "history = model.fit(train_img_datagen,\n",
        "                    steps_per_epoch=steps_per_epoch,\n",
        "                    verbose=1,\n",
        "                    epochs=55,\n",
        "                    validation_data=val_img_datagen,\n",
        "                    validation_steps=val_steps_per_epoch,\n",
        "                    callbacks=[cp_callback],\n",
        "                    shuffle=False)"
      ]
    }
  ],
  "metadata": {
    "accelerator": "GPU",
    "colab": {
      "include_colab_link": true,
      "machine_shape": "hm",
      "provenance": []
    },
    "kernelspec": {
      "display_name": "Python 3",
      "name": "python3"
    },
    "language_info": {
      "codemirror_mode": {
        "name": "ipython",
        "version": 3
      },
      "file_extension": ".py",
      "mimetype": "text/x-python",
      "name": "python",
      "nbconvert_exporter": "python",
      "pygments_lexer": "ipython3",
      "version": "3.9.18"
    }
  },
  "nbformat": 4,
  "nbformat_minor": 0
}

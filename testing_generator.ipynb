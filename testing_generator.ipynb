{
 "cells": [
  {
   "cell_type": "code",
   "execution_count": 1,
   "metadata": {},
   "outputs": [],
   "source": [
    "import os\n",
    "import nibabel as nib\n",
    "import matplotlib.pyplot as plt\n",
    "import numpy as np\n",
    "from sklearn.preprocessing import MinMaxScaler\n",
    "scaler = MinMaxScaler()"
   ]
  },
  {
   "cell_type": "code",
   "execution_count": 160,
   "metadata": {},
   "outputs": [],
   "source": [
    "def load_img(img_dir, img_list):\n",
    "    images=[]\n",
    "    for i, image_name in enumerate(img_list):\n",
    "        if (image_name.split('.')[1] == 'npy'):\n",
    "            image = np.load(img_dir+image_name)\n",
    "            # print(\"Image - \",image.shape)\n",
    "            images.append(image)\n",
    "    images = np.array(images)\n",
    "\n",
    "    return(images)\n",
    "\n",
    "def load_msk(img_dir, img_list):\n",
    "    images=[]\n",
    "    for i, image_name in enumerate(img_list):\n",
    "        if (image_name.split('.')[1] == 'npy'):\n",
    "            image = np.load(img_dir+image_name)\n",
    "            # print(\"before - \",image.shape)\n",
    "            image = to_categorical(image, num_classes=4)\n",
    "            # print(\"After - \",image.shape)\n",
    "            images.append(image)\n",
    "    images = np.array(images)\n",
    "\n",
    "    return(images)\n",
    "\n",
    "def imageLoader(img_dir, img_list, mask_dir, mask_list, batch_size):\n",
    "\n",
    "    L = len(img_list)\n",
    "\n",
    "    #keras needs the generator infinite, so we will use while true\n",
    "    while True:\n",
    "\n",
    "        batch_start = 0\n",
    "        batch_end = batch_size\n",
    "\n",
    "        while batch_start < L:\n",
    "            limit = min(batch_end, L)\n",
    "\n",
    "            X = load_img(img_dir, img_list[batch_start:limit])\n",
    "            Y = load_msk(mask_dir, mask_list[batch_start:limit])\n",
    "\n",
    "            yield (X,Y) #a tuple with two numpy arrays with batch_size samples\n",
    "            batch_start += batch_size\n",
    "            batch_end += batch_size\n",
    "\n",
    "\n",
    "\n",
    "def load_scan(parent_path,folder,start_slice,end_slice):\n",
    "    images=[]\n",
    "    labels = []\n",
    "    test_image_seg= nib.load(f\"{parent_path}/{folder}/{folder}-seg.nii.gz\").get_fdata()\n",
    "    test_image_seg = test_image_seg.astype(np.int8)\n",
    "\n",
    "    test_image_t1c=nib.load(f\"{parent_path}/{folder}/{folder}-t1c.nii.gz\").get_fdata()\n",
    "    test_image_t1c=scaler.fit_transform(test_image_t1c.reshape(-1, test_image_t1c.shape[-1])).reshape(test_image_t1c.shape)\n",
    "\n",
    "    test_image_t1n=nib.load(f\"{parent_path}/{folder}/{folder}-t1n.nii.gz\").get_fdata()\n",
    "    test_image_t1n=scaler.fit_transform(test_image_t1n.reshape(-1, test_image_t1n.shape[-1])).reshape(test_image_t1n.shape)\n",
    "\n",
    "    test_image_t2f=nib.load(f\"{parent_path}/{folder}/{folder}-t2f.nii.gz\").get_fdata()\n",
    "    test_image_t2f=scaler.fit_transform(test_image_t2f.reshape(-1, test_image_t2f.shape[-1])).reshape(test_image_t2f.shape)\n",
    "\n",
    "    test_image_t2w=nib.load(f\"{parent_path}/{folder}/{folder}-t2w.nii.gz\").get_fdata()\n",
    "    test_image_t2w=scaler.fit_transform(test_image_t2w.reshape(-1, test_image_t2w.shape[-1])).reshape(test_image_t2w.shape)\n",
    "\n",
    "    for slice_number in range(start_slice,end_slice):\n",
    "        print(slice_number)\n",
    "        test_image_seg_slice = test_image_seg[:,:,slice_number]\n",
    "        # test_image_seg_slice = to_categorical(test_image_seg_slice, num_classes=4)\n",
    "        test_image_t1c_slice = test_image_t1c[:,:,slice_number]\n",
    "        test_image_t1n_slice = test_image_t1n[:,:,slice_number]\n",
    "        test_image_t2f_slice = test_image_t2f[:,:,slice_number]\n",
    "        test_image_t2w_slice = test_image_t2w[:,:,slice_number]\n",
    "        combined_x = np.stack([test_image_t1c_slice,test_image_t1n_slice, test_image_t2f_slice,test_image_t2w_slice], axis=-1)\n",
    "        labels.append(test_image_seg_slice)\n",
    "        images.append(combined_x)\n",
    "\n",
    "    images = np.array(images)\n",
    "    labels = np.array(labels)\n",
    "\n",
    "    return(images,labels)\n",
    "\n",
    "\n",
    "def imageLoader_2(scan_dir, batch_size):\n",
    "\n",
    "    L = len(scan_dir)\n",
    "    parent_path = 'F:/FYP/BRATS_dataset/ASNR-MICCAI-BraTS2023-GLI-Challenge-TrainingData'\n",
    "    #keras needs the generator infinite, so we will use while true\n",
    "    while True:\n",
    "        \n",
    "        slice_range = 32\n",
    "        batch_size = 5\n",
    "        for index,scan_folder_name in enumerate(scan_dir):\n",
    "            first_slice = 64\n",
    "            for i in range(1,int(slice_range/batch_size)+2):\n",
    "                print(\"itter -\",i)\n",
    "                limit = min(batch_end, L)\n",
    "                if i > int(slice_range/batch_size):\n",
    "                    X,Y = load_scan(parent_path,scan_folder_name,first_slice,(first_slice+(slice_range%batch_size)))\n",
    "                else:    \n",
    "                    X,Y = load_scan(parent_path,scan_folder_name,first_slice,(first_slice+batch_size))\n",
    "                # X,Y = load_scan(parent_path,scan_folder_name,75,83)\n",
    "\n",
    "                yield (X,Y) #a tuple with two numpy arrays with batch_size samples\n",
    "                first_slice = first_slice + batch_size\n",
    "                "
   ]
  },
  {
   "cell_type": "code",
   "execution_count": 161,
   "metadata": {},
   "outputs": [],
   "source": [
    "# Replace 'folder_path' with the actual path to your folder\n",
    "folder_path = 'F:\\FYP\\BRATS_dataset\\ASNR-MICCAI-BraTS2023-GLI-Challenge-TrainingData'\n",
    "\n",
    "# Get a list of all subfolder names in the folder\n",
    "subfolder_names = [f for f in os.listdir(folder_path) if os.path.isdir(os.path.join(folder_path, f))]"
   ]
  },
  {
   "cell_type": "code",
   "execution_count": 162,
   "metadata": {},
   "outputs": [],
   "source": [
    "img_datagen = imageLoader_2(subfolder_names,8)"
   ]
  },
  {
   "cell_type": "code",
   "execution_count": 170,
   "metadata": {},
   "outputs": [
    {
     "name": "stdout",
     "output_type": "stream",
     "text": [
      "itter - 1\n",
      "64\n",
      "65\n",
      "66\n",
      "67\n",
      "68\n"
     ]
    }
   ],
   "source": [
    "img, msk = img_datagen.__next__()"
   ]
  },
  {
   "cell_type": "code",
   "execution_count": 101,
   "metadata": {},
   "outputs": [
    {
     "name": "stdout",
     "output_type": "stream",
     "text": [
      "(8, 240, 240, 4)\n"
     ]
    }
   ],
   "source": [
    "print(img.shape)"
   ]
  },
  {
   "cell_type": "code",
   "execution_count": 155,
   "metadata": {},
   "outputs": [
    {
     "name": "stdout",
     "output_type": "stream",
     "text": [
      "64\n",
      "65\n",
      "66\n",
      "67\n",
      "68\n",
      "69\n",
      "70\n",
      "71\n"
     ]
    },
    {
     "data": {
      "image/png": "[encoded data removed]",
      "text/plain": [
       "<Figure size 640x480 with 4 Axes>"
      ]
     },
     "metadata": {},
     "output_type": "display_data"
    }
   ],
   "source": [
    "import random\n",
    "img, msk = img_datagen.__next__()\n",
    "data_point = random.randint(0, 7)\n",
    "# data_point = 7\n",
    "\n",
    "# original_labels = np.expand_dims(msk[data_point,:,:,:], axis=0)\n",
    "# original_labels = np.argmax(original_labels, axis=3)\n",
    "\n",
    "\n",
    "plt.subplot(341)\n",
    "plt.imshow(img[data_point,:,:,0], cmap='gray')\n",
    "plt.title('Image t1c')\n",
    "plt.subplot(342)\n",
    "plt.imshow(img[data_point,:,:,1], cmap='gray')\n",
    "plt.title('Image t1n')\n",
    "plt.subplot(343)\n",
    "plt.imshow(img[data_point,:,:,2], cmap='gray')\n",
    "plt.title('Image t2f')\n",
    "plt.subplot(344)\n",
    "plt.imshow(img[data_point,:,:,3], cmap='gray')\n",
    "plt.title('Image t2w')\n",
    "# plt.subplot(345)\n",
    "# plt.imshow(msk[data_point,:,:,0], cmap='gray')\n",
    "# plt.title('Label_1')\n",
    "# plt.subplot(346)\n",
    "# plt.imshow(msk[data_point,:,:,1], cmap='gray')\n",
    "# plt.title('Label_2')\n",
    "# plt.subplot(347)\n",
    "# plt.imshow(msk[data_point,:,:,2], cmap='gray')\n",
    "# plt.title('Label_3')\n",
    "# plt.subplot(348)\n",
    "# plt.imshow(msk[data_point,:,:,3], cmap='gray')\n",
    "# plt.title('Label_4')\n",
    "# plt.subplot(349)\n",
    "# plt.imshow(original_labels.reshape((240,240)))\n",
    "# plt.title('Complete label')\n",
    "plt.subplots_adjust(left=0.1, bottom=0.1, right=0.9, top=0.9)\n",
    "plt.show()"
   ]
  },
  {
   "cell_type": "code",
   "execution_count": 80,
   "metadata": {},
   "outputs": [
    {
     "name": "stdout",
     "output_type": "stream",
     "text": [
      "3\n"
     ]
    }
   ],
   "source": [
    "print(8%5)"
   ]
  },
  {
   "cell_type": "code",
   "execution_count": null,
   "metadata": {},
   "outputs": [],
   "source": []
  }
 ],
 "metadata": {
  "kernelspec": {
   "display_name": "Python 3",
   "language": "python",
   "name": "python3"
  },
  "language_info": {
   "codemirror_mode": {
    "name": "ipython",
    "version": 3
   },
   "file_extension": ".py",
   "mimetype": "text/x-python",
   "name": "python",
   "nbconvert_exporter": "python",
   "pygments_lexer": "ipython3",
   "version": "3.9.0"
  }
 },
 "nbformat": 4,
 "nbformat_minor": 2
}
